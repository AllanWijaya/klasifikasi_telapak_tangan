{
 "cells": [
  {
   "cell_type": "markdown",
   "id": "9ec1c968",
   "metadata": {},
   "source": [
    "# 1. Import Module dan Library"
   ]
  },
  {
   "cell_type": "code",
   "execution_count": 1,
   "id": "4d1d542a",
   "metadata": {
    "scrolled": false
   },
   "outputs": [],
   "source": [
    "import os\n",
    "import numpy as np\n",
    "import tensorflow as tf\n",
    "from tensorflow import keras\n",
    "from tensorflow.keras import layers\n",
    "from PIL import Image\n",
    "import cv2\n",
    "import glob\n",
    "from sklearn.preprocessing import LabelEncoder\n",
    "from keras.utils.vis_utils import plot_model\n"
   ]
  },
  {
   "cell_type": "markdown",
   "id": "5f9b56e5",
   "metadata": {},
   "source": [
    "# 2. Import Dataset lalu Dimasukkan ke array train dan test"
   ]
  },
  {
   "cell_type": "code",
   "execution_count": 2,
   "id": "53e9affa",
   "metadata": {},
   "outputs": [],
   "source": [
    "# Definisikan jumlah kelas\n",
    "num_classes = 10\n",
    "\n",
    "imagePaths = 'dataset\\\\'\n",
    "label_train_list = ['allan', 'faiz','ilyas','indah','mitha','naufal','sando',\n",
    "                   'syifa','tasya','victor']\n",
    "\n",
    "train_images = []\n",
    "train_labels = []\n",
    "test_images = []\n",
    "# Path ke folder dataset\n",
    "for imagePath in glob.glob(imagePaths+'test'+'\\\\*.jpg'):\n",
    "#     print(imagePath)\n",
    "    image = cv2.imread(imagePath)\n",
    "    image = cv2.resize(image, (28, 28))\n",
    "    test_images.append(image)\n",
    "        \n",
    "        \n",
    "for label in label_train_list:\n",
    "    for imagePath in glob.glob(imagePaths+'train\\\\'+label+'\\\\*.jpg'):\n",
    "#         print(imagePath)\n",
    "        image = cv2.imread(imagePath)\n",
    "        image = cv2.resize(image, (28, 28))\n",
    "        train_images.append(image)\n",
    "        train_labels.append(label)"
   ]
  },
  {
   "cell_type": "markdown",
   "id": "1eb70906",
   "metadata": {},
   "source": [
    "# 3. Mengubah list menjad Numpy Array"
   ]
  },
  {
   "cell_type": "code",
   "execution_count": 3,
   "id": "31f16075",
   "metadata": {},
   "outputs": [],
   "source": [
    "train_images = np.array(train_images)\n",
    "train_labels = np.array(train_labels)\n",
    "test_images = np.array(test_images)"
   ]
  },
  {
   "cell_type": "markdown",
   "id": "1c3c564e",
   "metadata": {},
   "source": [
    "# 4. Menyusun data latih dan data uji ke dalam bentuk yang sesuai\n"
   ]
  },
  {
   "cell_type": "code",
   "execution_count": 4,
   "id": "d4b5b39a",
   "metadata": {},
   "outputs": [],
   "source": [
    "train_images = train_images.reshape((train_images.shape[0], 28, 28, 3))\n",
    "test_images = test_images.reshape((test_images.shape[0], 28, 28, 3))\n",
    "train_images = train_images.astype(\"float32\") / 255\n",
    "test_images = test_images.astype(\"float32\") / 255\n"
   ]
  },
  {
   "cell_type": "markdown",
   "id": "2ab95068",
   "metadata": {},
   "source": [
    "# 5. Mengubah label string menjadi label numerik"
   ]
  },
  {
   "cell_type": "code",
   "execution_count": 5,
   "id": "b1d49d32",
   "metadata": {},
   "outputs": [
    {
     "name": "stdout",
     "output_type": "stream",
     "text": [
      "[0 0 0 0 0 0 0 0 1 1 1 1 1 1 1 1 2 2 2 2 2 2 2 2 3 3 3 3 3 3 3 3 4 4 4 4 4\n",
      " 4 4 4 5 5 5 5 5 5 5 5 6 6 6 6 6 6 6 6 7 7 7 7 7 7 7 7 8 8 8 8 8 8 8 8 9 9\n",
      " 9 9 9 9 9 9]\n"
     ]
    }
   ],
   "source": [
    "lb = LabelEncoder()\n",
    "train_labels = lb.fit_transform(train_labels)\n",
    "print(train_labels)\n",
    "train_labels = keras.utils.to_categorical(train_labels, num_classes)\n",
    "\n"
   ]
  },
  {
   "cell_type": "markdown",
   "id": "30439a3a",
   "metadata": {},
   "source": [
    "# 6. Model CNN AlSyNet"
   ]
  },
  {
   "cell_type": "code",
   "execution_count": 6,
   "id": "6b8f1452",
   "metadata": {},
   "outputs": [],
   "source": [
    "model = keras.Sequential([\n",
    "    layers.Conv2D(32, (3, 3), activation=\"relu\", input_shape=(28, 28, 3),padding=\"same\"),\n",
    "    layers.Conv2D(32, (3, 3), activation=\"relu\", input_shape=(28, 28, 3),padding=\"same\"),\n",
    "    layers.Conv2D(32, (3, 3), activation=\"relu\", input_shape=(28, 28, 3),padding=\"same\"),\n",
    "    layers.MaxPooling2D((2, 2)),\n",
    "    layers.Conv2D(32, (3, 3), activation=\"relu\", input_shape=(14, 14, 3),padding=\"same\"),\n",
    "    layers.Conv2D(32, (3, 3), activation=\"relu\", input_shape=(14, 14, 3),padding=\"same\"),\n",
    "    layers.Conv2D(32, (3, 3), activation=\"relu\", input_shape=(14, 14, 3),padding=\"same\"),\n",
    "    layers.MaxPooling2D((2, 2)),\n",
    "    layers.Flatten(),\n",
    "    layers.Dense(64, activation=\"relu\"),\n",
    "    layers.Dense(num_classes, activation=\"softmax\")\n",
    "])"
   ]
  },
  {
   "cell_type": "code",
   "execution_count": 7,
   "id": "52f6770a",
   "metadata": {},
   "outputs": [
    {
     "name": "stdout",
     "output_type": "stream",
     "text": [
      "You must install pydot (`pip install pydot`) and install graphviz (see instructions at https://graphviz.gitlab.io/download/) for plot_model to work.\n"
     ]
    }
   ],
   "source": [
    "plot_model(model, to_file='model_plot.png', show_shapes=True, show_layer_names=True)"
   ]
  },
  {
   "cell_type": "code",
   "execution_count": 8,
   "id": "7caeb7d7",
   "metadata": {},
   "outputs": [
    {
     "name": "stdout",
     "output_type": "stream",
     "text": [
      "Model: \"sequential\"\n",
      "_________________________________________________________________\n",
      " Layer (type)                Output Shape              Param #   \n",
      "=================================================================\n",
      " conv2d (Conv2D)             (None, 28, 28, 32)        896       \n",
      "                                                                 \n",
      " conv2d_1 (Conv2D)           (None, 28, 28, 32)        9248      \n",
      "                                                                 \n",
      " conv2d_2 (Conv2D)           (None, 28, 28, 32)        9248      \n",
      "                                                                 \n",
      " max_pooling2d (MaxPooling2D  (None, 14, 14, 32)       0         \n",
      " )                                                               \n",
      "                                                                 \n",
      " conv2d_3 (Conv2D)           (None, 14, 14, 32)        9248      \n",
      "                                                                 \n",
      " conv2d_4 (Conv2D)           (None, 14, 14, 32)        9248      \n",
      "                                                                 \n",
      " conv2d_5 (Conv2D)           (None, 14, 14, 32)        9248      \n",
      "                                                                 \n",
      " max_pooling2d_1 (MaxPooling  (None, 7, 7, 32)         0         \n",
      " 2D)                                                             \n",
      "                                                                 \n",
      " flatten (Flatten)           (None, 1568)              0         \n",
      "                                                                 \n",
      " dense (Dense)               (None, 64)                100416    \n",
      "                                                                 \n",
      " dense_1 (Dense)             (None, 10)                650       \n",
      "                                                                 \n",
      "=================================================================\n",
      "Total params: 148,202\n",
      "Trainable params: 148,202\n",
      "Non-trainable params: 0\n",
      "_________________________________________________________________\n"
     ]
    }
   ],
   "source": [
    "model.summary()"
   ]
  },
  {
   "cell_type": "markdown",
   "id": "af4feee5",
   "metadata": {},
   "source": [
    "# 7. Menentukan optimizer, fungsi loss, dan metrik evaluasi"
   ]
  },
  {
   "cell_type": "code",
   "execution_count": 9,
   "id": "df5b481d",
   "metadata": {},
   "outputs": [],
   "source": [
    "model.compile(optimizer=\"adam\", loss=\"categorical_crossentropy\", metrics=[\"acc\"])"
   ]
  },
  {
   "cell_type": "markdown",
   "id": "1be0e264",
   "metadata": {},
   "source": [
    "# 8. Melatih model"
   ]
  },
  {
   "cell_type": "code",
   "execution_count": 10,
   "id": "d6be1716",
   "metadata": {},
   "outputs": [
    {
     "name": "stdout",
     "output_type": "stream",
     "text": [
      "Epoch 1/50\n",
      "4/4 [==============================] - 2s 42ms/step - loss: 2.3458 - acc: 0.0625\n",
      "Epoch 2/50\n",
      "4/4 [==============================] - 0s 33ms/step - loss: 2.3060 - acc: 0.1125\n",
      "Epoch 3/50\n",
      "4/4 [==============================] - 0s 52ms/step - loss: 2.3039 - acc: 0.0625\n",
      "Epoch 4/50\n",
      "4/4 [==============================] - 0s 50ms/step - loss: 2.3022 - acc: 0.1000\n",
      "Epoch 5/50\n",
      "4/4 [==============================] - 0s 47ms/step - loss: 2.3020 - acc: 0.1000\n",
      "Epoch 6/50\n",
      "4/4 [==============================] - 0s 50ms/step - loss: 2.3000 - acc: 0.1125\n",
      "Epoch 7/50\n",
      "4/4 [==============================] - 0s 52ms/step - loss: 2.2983 - acc: 0.1375\n",
      "Epoch 8/50\n",
      "4/4 [==============================] - 0s 51ms/step - loss: 2.2945 - acc: 0.2000\n",
      "Epoch 9/50\n",
      "4/4 [==============================] - 0s 52ms/step - loss: 2.2864 - acc: 0.1875\n",
      "Epoch 10/50\n",
      "4/4 [==============================] - 0s 43ms/step - loss: 2.2744 - acc: 0.1500\n",
      "Epoch 11/50\n",
      "4/4 [==============================] - 0s 42ms/step - loss: 2.2243 - acc: 0.2250\n",
      "Epoch 12/50\n",
      "4/4 [==============================] - 0s 42ms/step - loss: 2.1476 - acc: 0.1625\n",
      "Epoch 13/50\n",
      "4/4 [==============================] - 0s 40ms/step - loss: 1.9258 - acc: 0.2875\n",
      "Epoch 14/50\n",
      "4/4 [==============================] - 0s 47ms/step - loss: 1.7613 - acc: 0.3625\n",
      "Epoch 15/50\n",
      "4/4 [==============================] - 0s 49ms/step - loss: 1.5603 - acc: 0.4375\n",
      "Epoch 16/50\n",
      "4/4 [==============================] - 0s 55ms/step - loss: 1.4069 - acc: 0.5125\n",
      "Epoch 17/50\n",
      "4/4 [==============================] - 0s 56ms/step - loss: 1.3002 - acc: 0.5000\n",
      "Epoch 18/50\n",
      "4/4 [==============================] - 0s 57ms/step - loss: 1.1049 - acc: 0.5875\n",
      "Epoch 19/50\n",
      "4/4 [==============================] - 0s 54ms/step - loss: 1.1608 - acc: 0.6125\n",
      "Epoch 20/50\n",
      "4/4 [==============================] - 0s 45ms/step - loss: 0.8371 - acc: 0.6625\n",
      "Epoch 21/50\n",
      "4/4 [==============================] - 0s 46ms/step - loss: 0.6828 - acc: 0.7875\n",
      "Epoch 22/50\n",
      "4/4 [==============================] - 0s 42ms/step - loss: 0.5645 - acc: 0.8375\n",
      "Epoch 23/50\n",
      "4/4 [==============================] - 0s 42ms/step - loss: 0.6642 - acc: 0.8000\n",
      "Epoch 24/50\n",
      "4/4 [==============================] - 0s 43ms/step - loss: 0.7666 - acc: 0.7375\n",
      "Epoch 25/50\n",
      "4/4 [==============================] - 0s 44ms/step - loss: 0.6986 - acc: 0.7000\n",
      "Epoch 26/50\n",
      "4/4 [==============================] - 0s 43ms/step - loss: 0.5252 - acc: 0.8000\n",
      "Epoch 27/50\n",
      "4/4 [==============================] - 0s 47ms/step - loss: 0.4454 - acc: 0.8500\n",
      "Epoch 28/50\n",
      "4/4 [==============================] - 0s 44ms/step - loss: 0.2793 - acc: 0.9625\n",
      "Epoch 29/50\n",
      "4/4 [==============================] - 0s 47ms/step - loss: 0.2669 - acc: 0.9000\n",
      "Epoch 30/50\n",
      "4/4 [==============================] - 0s 53ms/step - loss: 0.1712 - acc: 0.9625\n",
      "Epoch 31/50\n",
      "4/4 [==============================] - 0s 48ms/step - loss: 0.1945 - acc: 0.9375\n",
      "Epoch 32/50\n",
      "4/4 [==============================] - 0s 45ms/step - loss: 0.2338 - acc: 0.9500\n",
      "Epoch 33/50\n",
      "4/4 [==============================] - 0s 45ms/step - loss: 0.1144 - acc: 0.9500\n",
      "Epoch 34/50\n",
      "4/4 [==============================] - 0s 46ms/step - loss: 0.1398 - acc: 0.9750\n",
      "Epoch 35/50\n",
      "4/4 [==============================] - 0s 45ms/step - loss: 0.0436 - acc: 1.0000\n",
      "Epoch 36/50\n",
      "4/4 [==============================] - 0s 45ms/step - loss: 0.0305 - acc: 1.0000\n",
      "Epoch 37/50\n",
      "4/4 [==============================] - 0s 41ms/step - loss: 0.0144 - acc: 1.0000\n",
      "Epoch 38/50\n",
      "4/4 [==============================] - 0s 41ms/step - loss: 0.0147 - acc: 1.0000\n",
      "Epoch 39/50\n",
      "4/4 [==============================] - 0s 43ms/step - loss: 0.0069 - acc: 1.0000\n",
      "Epoch 40/50\n",
      "4/4 [==============================] - 0s 54ms/step - loss: 0.0056 - acc: 1.0000\n",
      "Epoch 41/50\n",
      "4/4 [==============================] - 0s 38ms/step - loss: 0.0037 - acc: 1.0000\n",
      "Epoch 42/50\n",
      "4/4 [==============================] - 0s 39ms/step - loss: 0.0024 - acc: 1.0000\n",
      "Epoch 43/50\n",
      "4/4 [==============================] - 0s 41ms/step - loss: 0.0019 - acc: 1.0000\n",
      "Epoch 44/50\n",
      "4/4 [==============================] - 0s 43ms/step - loss: 0.0014 - acc: 1.0000\n",
      "Epoch 45/50\n",
      "4/4 [==============================] - 0s 39ms/step - loss: 0.0012 - acc: 1.0000\n",
      "Epoch 46/50\n",
      "4/4 [==============================] - 0s 39ms/step - loss: 0.0011 - acc: 1.0000\n",
      "Epoch 47/50\n",
      "4/4 [==============================] - 0s 40ms/step - loss: 9.4995e-04 - acc: 1.0000\n",
      "Epoch 48/50\n",
      "4/4 [==============================] - 0s 50ms/step - loss: 8.6359e-04 - acc: 1.0000\n",
      "Epoch 49/50\n",
      "4/4 [==============================] - 0s 47ms/step - loss: 7.9734e-04 - acc: 1.0000\n",
      "Epoch 50/50\n",
      "4/4 [==============================] - 0s 44ms/step - loss: 7.6045e-04 - acc: 1.0000\n"
     ]
    },
    {
     "data": {
      "text/plain": [
       "<keras.callbacks.History at 0x2304cf4a5f0>"
      ]
     },
     "execution_count": 10,
     "metadata": {},
     "output_type": "execute_result"
    }
   ],
   "source": [
    "model.fit(train_images, train_labels, epochs=50, batch_size=20, verbose=1)"
   ]
  },
  {
   "cell_type": "markdown",
   "id": "8dd17b34",
   "metadata": {},
   "source": [
    "# 9. Evaluasi model pada data test"
   ]
  },
  {
   "cell_type": "code",
   "execution_count": 11,
   "id": "16add67a",
   "metadata": {},
   "outputs": [
    {
     "name": "stdout",
     "output_type": "stream",
     "text": [
      "1/1 [==============================] - 0s 273ms/step\n"
     ]
    }
   ],
   "source": [
    "predicted_labels = model.predict(test_images)"
   ]
  },
  {
   "cell_type": "markdown",
   "id": "e25a908f",
   "metadata": {},
   "source": [
    "# 10. Mengonversi hasil prediksi menjadi label numerik, lalu menjadi label seperti semula"
   ]
  },
  {
   "cell_type": "code",
   "execution_count": 12,
   "id": "f5831e75",
   "metadata": {
    "scrolled": true
   },
   "outputs": [
    {
     "name": "stdout",
     "output_type": "stream",
     "text": [
      "Prediksi pada data uji: ['syifa' 'indah' 'ilyas' 'mitha' 'tasya' 'ilyas' 'tasya' 'allan' 'allan'\n",
      " 'faiz' 'mitha' 'indah' 'indah' 'allan' 'faiz' 'allan' 'sando' 'victor'\n",
      " 'victor' 'syifa']\n"
     ]
    }
   ],
   "source": [
    "predicted_labels_numeric = np.argmax(predicted_labels, axis=1)\n",
    "tes=lb.inverse_transform(predicted_labels_numeric)\n",
    "print(\"Prediksi pada data uji:\", tes)"
   ]
  },
  {
   "cell_type": "code",
   "execution_count": null,
   "id": "90eddc8c",
   "metadata": {},
   "outputs": [],
   "source": []
  }
 ],
 "metadata": {
  "kernelspec": {
   "display_name": "Python 3 (ipykernel)",
   "language": "python",
   "name": "python3"
  },
  "language_info": {
   "codemirror_mode": {
    "name": "ipython",
    "version": 3
   },
   "file_extension": ".py",
   "mimetype": "text/x-python",
   "name": "python",
   "nbconvert_exporter": "python",
   "pygments_lexer": "ipython3",
   "version": "3.10.9"
  },
  "widgets": {
   "application/vnd.jupyter.widget-state+json": {
    "state": {},
    "version_major": 2,
    "version_minor": 0
   }
  }
 },
 "nbformat": 4,
 "nbformat_minor": 5
}
